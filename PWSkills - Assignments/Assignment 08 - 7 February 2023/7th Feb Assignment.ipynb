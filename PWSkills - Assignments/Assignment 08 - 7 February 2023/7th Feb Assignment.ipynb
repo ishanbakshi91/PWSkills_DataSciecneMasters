{
 "cells": [
  {
   "cell_type": "markdown",
   "id": "2a4a1620",
   "metadata": {},
   "source": [
    "# 7th Feb Assignment\n",
    "---"
   ]
  },
  {
   "cell_type": "markdown",
   "id": "654099f0",
   "metadata": {},
   "source": [
    "#### Q1. You are writing code for a company. The requirement of the company is that you create a python function that will check whether the password entered by the user is correct or not. The function should take the password as input and return the string “Valid Password” if the entered password follows the below-given password guidelines else it should return “Invalid Password”. \n",
    "\n",
    " **Note:**\n",
    " 1. The Password should contain at least two uppercase letters and at least two lowercase letters. \n",
    " 2. The Password should contain at least a number and three special characters.\n",
    " 3. The length of the password should be 10 characters long."
   ]
  },
  {
   "cell_type": "code",
   "execution_count": 2,
   "id": "d1fb23fa",
   "metadata": {},
   "outputs": [
    {
     "name": "stdout",
     "output_type": "stream",
     "text": [
      "Enter Password : Data-Scientist@123#\n",
      "Vailid Password\n"
     ]
    }
   ],
   "source": [
    "def password_validation(password):\n",
    "    num_count = 0\n",
    "    special_char_count = 0\n",
    "    upper_count = 0\n",
    "    lower_count = 0\n",
    "    \n",
    "    for i in password:\n",
    "        if i.isupper():\n",
    "            upper_count = upper_count + 1\n",
    "        elif i.islower():\n",
    "            lower_count = lower_count + 1\n",
    "        elif i.isdigit():\n",
    "            num_count = num_count + 1\n",
    "        elif not(i.isalnum()):\n",
    "            special_char_count = special_char_count + 1\n",
    "    if num_count >= 1 and upper_count >= 2 and lower_count >= 2 and special_char_count >= 3 and len(password) >= 10:\n",
    "        print(\"Vailid Password\")\n",
    "    else:\n",
    "        print(\"Invailid Password\")\n",
    "password = input(\"Enter Password : \")\n",
    "password_validation(password)"
   ]
  },
  {
   "cell_type": "markdown",
   "id": "e275af10",
   "metadata": {},
   "source": [
    "#### Q2. Solve the below-given questions using at least one of the following: \n",
    "\n",
    "1. Lambda function\n",
    "2. Filter function\n",
    "3. Map function\n",
    "4. List Comprehension\n",
    "\n",
    "-  Check if the string starts with a particular letter.\n",
    "-  Check if the string is numeric. \n",
    "-  Sort a list of tuples having fruit names and their quantity. [(\"mango\",99),(\"orange\",80), (\"grapes\", 1000)] \n",
    "-  Find the squares of numbers from 1 to 10. \n",
    "-  Find the cube root of numbers from 1 to 10. \n",
    "-  Check if a given number is even. \n",
    "-  Filter odd numbers from the given list.\n",
    "   [1,2,3,4,5,6,7,8,9,10] \n",
    "-  Sort a list of integers into positive and negative integers lists.\n",
    "   [1,2,3,4,5,6,-1,-2,-3,-4,-5,0] "
   ]
  },
  {
   "cell_type": "code",
   "execution_count": null,
   "id": "75b33784",
   "metadata": {},
   "outputs": [],
   "source": []
  },
  {
   "cell_type": "code",
   "execution_count": null,
   "id": "10e6b629",
   "metadata": {},
   "outputs": [],
   "source": []
  },
  {
   "cell_type": "code",
   "execution_count": null,
   "id": "2c55cdf6",
   "metadata": {},
   "outputs": [],
   "source": []
  },
  {
   "cell_type": "code",
   "execution_count": null,
   "id": "780881f9",
   "metadata": {},
   "outputs": [],
   "source": []
  },
  {
   "cell_type": "code",
   "execution_count": null,
   "id": "76555047",
   "metadata": {},
   "outputs": [],
   "source": []
  },
  {
   "cell_type": "code",
   "execution_count": null,
   "id": "81c5a23b",
   "metadata": {},
   "outputs": [],
   "source": []
  },
  {
   "cell_type": "code",
   "execution_count": null,
   "id": "7cf88fdd",
   "metadata": {},
   "outputs": [],
   "source": []
  },
  {
   "cell_type": "code",
   "execution_count": null,
   "id": "06b33237",
   "metadata": {},
   "outputs": [],
   "source": []
  },
  {
   "cell_type": "code",
   "execution_count": null,
   "id": "6997d231",
   "metadata": {},
   "outputs": [],
   "source": []
  },
  {
   "cell_type": "code",
   "execution_count": null,
   "id": "2868f640",
   "metadata": {},
   "outputs": [],
   "source": []
  },
  {
   "cell_type": "code",
   "execution_count": null,
   "id": "841f795e",
   "metadata": {},
   "outputs": [],
   "source": []
  },
  {
   "cell_type": "code",
   "execution_count": null,
   "id": "399223a6",
   "metadata": {},
   "outputs": [],
   "source": [
    "#Check if the string starts with a particular letter."
   ]
  },
  {
   "cell_type": "code",
   "execution_count": null,
   "id": "394062b8",
   "metadata": {},
   "outputs": [],
   "source": []
  },
  {
   "cell_type": "code",
   "execution_count": null,
   "id": "a3d00f1a",
   "metadata": {},
   "outputs": [],
   "source": [
    "#Check if the string is numeric."
   ]
  },
  {
   "cell_type": "code",
   "execution_count": null,
   "id": "77115759",
   "metadata": {},
   "outputs": [],
   "source": []
  },
  {
   "cell_type": "code",
   "execution_count": null,
   "id": "f1d314c0",
   "metadata": {},
   "outputs": [],
   "source": [
    "#Sort a list of tuples having fruit names and their quantity. [(\"mango\",99),(\"orange\",80), (\"grapes\", 1000)]"
   ]
  },
  {
   "cell_type": "code",
   "execution_count": null,
   "id": "e8422893",
   "metadata": {},
   "outputs": [],
   "source": []
  },
  {
   "cell_type": "code",
   "execution_count": null,
   "id": "81575bcd",
   "metadata": {},
   "outputs": [],
   "source": [
    "#Find the squares of numbers from 1 to 10."
   ]
  },
  {
   "cell_type": "code",
   "execution_count": 6,
   "id": "6c275d63",
   "metadata": {},
   "outputs": [
    {
     "data": {
      "text/plain": [
       "[1, 4, 9, 16, 25, 36, 49, 64, 81, 100]"
      ]
     },
     "execution_count": 6,
     "metadata": {},
     "output_type": "execute_result"
    }
   ],
   "source": [
    "squares= [ i**2 for i in range(1,11)]\n",
    "squares"
   ]
  },
  {
   "cell_type": "code",
   "execution_count": null,
   "id": "daf2cc14",
   "metadata": {},
   "outputs": [],
   "source": [
    "square_numbers = list(map(lambda x: x ** 2, numbers))\n",
    "print(square_numbers)"
   ]
  },
  {
   "cell_type": "code",
   "execution_count": null,
   "id": "5d91550e",
   "metadata": {},
   "outputs": [],
   "source": [
    "#Find the cube root of numbers from 1 to 10."
   ]
  },
  {
   "cell_type": "code",
   "execution_count": 8,
   "id": "8b783484",
   "metadata": {},
   "outputs": [
    {
     "data": {
      "text/plain": [
       "[1, 8, 27, 64, 125, 216, 343, 512, 729, 1000]"
      ]
     },
     "execution_count": 8,
     "metadata": {},
     "output_type": "execute_result"
    }
   ],
   "source": [
    "cube_root= [ i**3 for i in range(1,11)]\n",
    "cube_root"
   ]
  },
  {
   "cell_type": "code",
   "execution_count": null,
   "id": "8b22ebf2",
   "metadata": {},
   "outputs": [],
   "source": [
    "\n",
    "\n",
    "cube_numbers = list(map(lambda x: x ** 3, numbers))\n",
    "print(cube_numbers)"
   ]
  },
  {
   "cell_type": "code",
   "execution_count": 3,
   "id": "076eb297",
   "metadata": {},
   "outputs": [
    {
     "name": "stdout",
     "output_type": "stream",
     "text": [
      "Enter number :15\n",
      "15 is not a Even number\n"
     ]
    }
   ],
   "source": [
    "#Check if a given number is even.\n",
    "\n",
    "num = int(input(\"Enter number :\"))\n",
    "l = lambda x: True if x%2 ==0 else False\n",
    "print(f\"{num} is Even number\") if l(num) else print(f\"{num} is not an Even number\")"
   ]
  },
  {
   "cell_type": "code",
   "execution_count": 4,
   "id": "80477c71",
   "metadata": {
    "scrolled": true
   },
   "outputs": [
    {
     "name": "stdout",
     "output_type": "stream",
     "text": [
      "Given list : [1, 2, 3, 4, 5, 6, 7, 8, 9, 10]\n",
      "\n",
      "list of odd numbers : [1, 3, 5, 7, 9]\n"
     ]
    }
   ],
   "source": [
    "#Filter odd numbers from the given list. [1,2,3,4,5,6,7,8,9,10]\n",
    "\n",
    "lst = [1,2,3,4,5,6,7,8,9,10]\n",
    "print(f\"Given list : {lst}\\n\")\n",
    "\n",
    "filtered_lst = list(filter(lambda x: x%2 != 0, lst))\n",
    "print(f\"list of odd numbers : {filtered_lst}\")\n"
   ]
  },
  {
   "cell_type": "code",
   "execution_count": 5,
   "id": "e45fe292",
   "metadata": {},
   "outputs": [
    {
     "name": "stdout",
     "output_type": "stream",
     "text": [
      "[1, 2, 3, 4, 5, 6]\n",
      "[-1, -2, -3, -4, -5]\n"
     ]
    }
   ],
   "source": [
    "#Sort a list of integers into positive and negative integers lists. [1,2,3,4,5,6,-1,-2,-3,-4,-5,0]\n",
    "\n",
    "lst = [1,2,3,4,5,6,-1,-2,-3,-4,-5,0]\n",
    "positive = [x for x in lst if x > 0]\n",
    "negative = [x for x in lst if x < 0]        \n",
    "print(positive)\n",
    "print(negative)"
   ]
  },
  {
   "cell_type": "code",
   "execution_count": null,
   "id": "2db62944",
   "metadata": {},
   "outputs": [],
   "source": []
  }
 ],
 "metadata": {
  "kernelspec": {
   "display_name": "Python 3 (ipykernel)",
   "language": "python",
   "name": "python3"
  },
  "language_info": {
   "codemirror_mode": {
    "name": "ipython",
    "version": 3
   },
   "file_extension": ".py",
   "mimetype": "text/x-python",
   "name": "python",
   "nbconvert_exporter": "python",
   "pygments_lexer": "ipython3",
   "version": "3.8.16"
  }
 },
 "nbformat": 4,
 "nbformat_minor": 5
}
