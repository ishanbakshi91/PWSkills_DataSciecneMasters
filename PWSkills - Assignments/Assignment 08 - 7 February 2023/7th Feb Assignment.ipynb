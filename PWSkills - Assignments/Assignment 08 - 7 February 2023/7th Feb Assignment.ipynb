{
 "cells": [
  {
   "cell_type": "markdown",
   "id": "352c6434",
   "metadata": {},
   "source": [
    "# 7th Feb Assignment\n",
    "---"
   ]
  },
  {
   "cell_type": "markdown",
   "id": "553c4cb7",
   "metadata": {},
   "source": [
    "#### Q1. You are writing code for a company. The requirement of the company is that you create a python function that will check whether the password entered by the user is correct or not. The function should take the password as input and return the string “Valid Password” if the entered password follows the below-given password guidelines else it should return “Invalid Password”. \n",
    "\n",
    " **Note:**\n",
    " 1. The Password should contain at least two uppercase letters and at least two lowercase letters. \n",
    " 2. The Password should contain at least a number and three special characters.\n",
    " 3. The length of the password should be 10 characters long."
   ]
  },
  {
   "cell_type": "code",
   "execution_count": 25,
   "id": "11ae0872",
   "metadata": {},
   "outputs": [
    {
     "name": "stdout",
     "output_type": "stream",
     "text": [
      "Enter Password : DATA@science123%$\n",
      "Vailid Password\n"
     ]
    }
   ],
   "source": [
    "def check_password(password):\n",
    "    num_count = 0\n",
    "    special_char_count = 0\n",
    "    upper_count = 0\n",
    "    lower_count = 0\n",
    "    \n",
    "    for i in password:\n",
    "        if i.isupper():\n",
    "            upper_count = upper_count + 1\n",
    "        elif i.islower():\n",
    "            lower_count = lower_count + 1\n",
    "        elif i.isdigit():\n",
    "            num_count = num_count + 1\n",
    "        elif not(i.isalnum()):\n",
    "            special_char_count = special_char_count + 1\n",
    "    if num_count >= 1 and upper_count >= 2 and lower_count >= 2 and special_char_count >= 3 and len(password) >= 10:\n",
    "        print(\"Vailid Password\")\n",
    "    else:\n",
    "        print(\"Invailid Password\")\n",
    "password = input(\"Enter Password : \")\n",
    "check_password(password)"
   ]
  },
  {
   "cell_type": "code",
   "execution_count": null,
   "id": "b4964fed",
   "metadata": {},
   "outputs": [],
   "source": []
  }
 ],
 "metadata": {
  "kernelspec": {
   "display_name": "Python 3 (ipykernel)",
   "language": "python",
   "name": "python3"
  },
  "language_info": {
   "codemirror_mode": {
    "name": "ipython",
    "version": 3
   },
   "file_extension": ".py",
   "mimetype": "text/x-python",
   "name": "python",
   "nbconvert_exporter": "python",
   "pygments_lexer": "ipython3",
   "version": "3.8.16"
  }
 },
 "nbformat": 4,
 "nbformat_minor": 5
}
