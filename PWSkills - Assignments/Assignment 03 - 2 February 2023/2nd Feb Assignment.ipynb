{
 "cells": [
  {
   "cell_type": "markdown",
   "id": "31afe95a",
   "metadata": {},
   "source": [
    "# 2nd Feb Assignment\n",
    "---"
   ]
  },
  {
   "cell_type": "markdown",
   "id": "5ba9380d",
   "metadata": {},
   "source": [
    "#### Q1. Explain with an example each when to use a for loop and a while loop."
   ]
  },
  {
   "cell_type": "markdown",
   "id": "a0b496f1",
   "metadata": {},
   "source": [
    "Ans. for loop is used to iterate a specific block of code multiple times. It is used when we already know the number of iterations, which means when we know how many times a statement has to be executed.That is why we have to specify the ending point in the for loop initialization. "
   ]
  },
  {
   "cell_type": "code",
   "execution_count": 1,
   "id": "ea2c9283",
   "metadata": {},
   "outputs": [
    {
     "name": "stdout",
     "output_type": "stream",
     "text": [
      "for loop example\n",
      "for loop example\n",
      "for loop example\n",
      "for loop example\n",
      "\n",
      "\n"
     ]
    }
   ],
   "source": [
    "# Example:\n",
    "\n",
    "for i in range(4):\n",
    "    print(\"for loop example\")\n",
    "print(\"\\n\")"
   ]
  },
  {
   "cell_type": "markdown",
   "id": "ae217a12",
   "metadata": {},
   "source": [
    "While loops, on the other hand, are used when you want to repeatedly execute a block of code as long as a given condition is met.\n",
    "\n",
    "while loop is used to iterate a block of code multiple times until the given condition is true. It is useful when we can't specify terminating condition of the loop. it is useful because it checks the condition every time before executing the code inside it which for loop doesn't"
   ]
  },
  {
   "cell_type": "code",
   "execution_count": 2,
   "id": "21890c3e",
   "metadata": {},
   "outputs": [
    {
     "name": "stdout",
     "output_type": "stream",
     "text": [
      "while loop example\n",
      "while loop example\n",
      "while loop example\n",
      "while loop example\n"
     ]
    }
   ],
   "source": [
    "# Example:\n",
    "  \n",
    "count = 0\n",
    "while (count < 4):\n",
    "    count += 1\n",
    "    print(\"while loop example\")"
   ]
  },
  {
   "cell_type": "markdown",
   "id": "64612afd",
   "metadata": {},
   "source": [
    "#### Q2. Write a python program to print the sum and product of the first 10 natural numbers using for and while loop."
   ]
  },
  {
   "cell_type": "code",
   "execution_count": 3,
   "id": "c07cdeae",
   "metadata": {},
   "outputs": [
    {
     "name": "stdout",
     "output_type": "stream",
     "text": [
      "Using for Loop\n",
      "Sum of first 10 natural numbers is 55\n",
      "Product of first 10 natural numbers is 3628800\n"
     ]
    }
   ],
   "source": [
    "## using for loop\n",
    "\n",
    "sum = 0\n",
    "product = 1\n",
    "for i in list(range(1,11)):\n",
    "    sum += i\n",
    "    product *= i\n",
    "print(\"Using for Loop\")\n",
    "print(\"Sum of first 10 natural numbers is\",sum)\n",
    "print(\"Product of first 10 natural numbers is\",product)"
   ]
  },
  {
   "cell_type": "code",
   "execution_count": 4,
   "id": "8cdbca61",
   "metadata": {},
   "outputs": [
    {
     "name": "stdout",
     "output_type": "stream",
     "text": [
      "Using While Loop\n",
      "Sum of first 10 natural numbers is 55\n",
      "Product of first 10 natural numbers is 3628800\n"
     ]
    }
   ],
   "source": [
    "## while Loop\n",
    "\n",
    "count = 1\n",
    "sum = 0\n",
    "product = 1\n",
    "while(count<11):\n",
    "    sum += count\n",
    "    product *= count\n",
    "    count += 1\n",
    "print(\"Using While Loop\")\n",
    "print(\"Sum of first 10 natural numbers is\",sum)\n",
    "print(\"Product of first 10 natural numbers is\",product)"
   ]
  },
  {
   "cell_type": "markdown",
   "id": "568b0df2",
   "metadata": {},
   "source": [
    "#### Q3. Create a python program to compute the electricity bill for a household.\n",
    "\n",
    "#### The per-unit charges in rupees are as follows: For the first 100 units, the user will be charged Rs. 4.5 per unit, for the next 100 units, the user will be charged Rs. 6 per unit, and for the next 100 units, the user will be charged Rs. 10 per unit, After 300 units and above the user will be charged Rs. 20 per unit.  \n",
    "\n",
    "#### You are required to take the units of electricity consumed in a month from the user as input.\n",
    "\n",
    "#### Your program must pass this test case: when the unit of electricity consumed by the user in a month is 310, the total electricity bill should be 2250."
   ]
  },
  {
   "cell_type": "code",
   "execution_count": 5,
   "id": "9cf3d0bd",
   "metadata": {},
   "outputs": [
    {
     "name": "stdout",
     "output_type": "stream",
     "text": [
      "Enter the total units consumed: 310\n",
      "The total bill amount is: Rs. 2250.00\n"
     ]
    }
   ],
   "source": [
    "total_units = int(input(\"Enter the total units consumed: \"))\n",
    "\n",
    "if total_units >0 and total_units <=100:\n",
    "    bill = total_units*4.5\n",
    "    \n",
    "elif total_units >100 and total_units <=200:\n",
    "    bill = (total_units-100)*6 + (100)*4.5\n",
    "    \n",
    "elif total_units >200 and total_units <=300:\n",
    "    bill = (total_units-200)*10 + (100*6) + (100*4.5)\n",
    "    \n",
    "elif total_units >300:\n",
    "    bill = (total_units-300)*20 + (100*10) + (100*6) + (100*4.5)\n",
    "    \n",
    "else:\n",
    "    print(\"Invalid Input\")\n",
    "print(\"The total bill amount is: Rs. %.2f\" % bill)"
   ]
  },
  {
   "cell_type": "markdown",
   "id": "ed74f5bc",
   "metadata": {},
   "source": [
    "#### Q4. Create a list of numbers from 1 to 100. Use for loop and while loop to calculate the cube of each number and if the cube of that number is divisible by 4 or 5 then append that number in a list and print that list."
   ]
  },
  {
   "cell_type": "code",
   "execution_count": 6,
   "id": "ad8ec090",
   "metadata": {},
   "outputs": [
    {
     "name": "stdout",
     "output_type": "stream",
     "text": [
      "Numbers whose cube is divisible by 4 or 5: [2, 4, 5, 6, 8, 10, 12, 14, 15, 16, 18, 20, 22, 24, 25, 26, 28, 30, 32, 34, 35, 36, 38, 40, 42, 44, 45, 46, 48, 50, 52, 54, 55, 56, 58, 60, 62, 64, 65, 66, 68, 70, 72, 74, 75, 76, 78, 80, 82, 84, 85, 86, 88, 90, 92, 94, 95, 96, 98, 100]\n"
     ]
    }
   ],
   "source": [
    "## using for loop\n",
    "\n",
    "numbers = []\n",
    "cubes = []\n",
    "\n",
    "for i in range(1, 101):\n",
    "    numbers.append(i)\n",
    "    cube = i ** 3\n",
    "    if cube % 4 == 0 or cube % 5 == 0:\n",
    "        cubes.append(i)\n",
    "\n",
    "print(\"Numbers whose cube is divisible by 4 or 5:\", cubes)"
   ]
  },
  {
   "cell_type": "code",
   "execution_count": 7,
   "id": "aa763b04",
   "metadata": {},
   "outputs": [
    {
     "name": "stdout",
     "output_type": "stream",
     "text": [
      "Numbers whose cube is divisible by 4 or 5: [2, 4, 5, 6, 8, 10, 12, 14, 15, 16, 18, 20, 22, 24, 25, 26, 28, 30, 32, 34, 35, 36, 38, 40, 42, 44, 45, 46, 48, 50, 52, 54, 55, 56, 58, 60, 62, 64, 65, 66, 68, 70, 72, 74, 75, 76, 78, 80, 82, 84, 85, 86, 88, 90, 92, 94, 95, 96, 98, 100]\n"
     ]
    }
   ],
   "source": [
    "## using while loop\n",
    "\n",
    "cubes = []\n",
    "count = 1\n",
    "\n",
    "while (count <= 100):\n",
    "    cube = count ** 3\n",
    "    if cube % 4 == 0 or cube % 5 == 0:\n",
    "        cubes.append(count)\n",
    "    count += 1\n",
    "\n",
    "print(\"Numbers whose cube is divisible by 4 or 5:\", cubes)"
   ]
  },
  {
   "cell_type": "markdown",
   "id": "f1533c62",
   "metadata": {},
   "source": [
    "#### Q5. Write a program to filter count vowels in the below-given string.\n",
    "\n",
    "##### string = \"I want to become a data scientist\""
   ]
  },
  {
   "cell_type": "code",
   "execution_count": 8,
   "id": "ca05aadc",
   "metadata": {},
   "outputs": [
    {
     "name": "stdout",
     "output_type": "stream",
     "text": [
      "Number of Vowels in Given String is : 12\n"
     ]
    }
   ],
   "source": [
    "string = \"I want to become a data scientist\"\n",
    "vowels = ('aeiou')\n",
    "count = 0\n",
    "for i in string.lower():\n",
    "    if i in vowels:\n",
    "        count += 1\n",
    "print(\"Number of Vowels in Given String is :\",count)"
   ]
  }
 ],
 "metadata": {
  "kernelspec": {
   "display_name": "Python 3 (ipykernel)",
   "language": "python",
   "name": "python3"
  },
  "language_info": {
   "codemirror_mode": {
    "name": "ipython",
    "version": 3
   },
   "file_extension": ".py",
   "mimetype": "text/x-python",
   "name": "python",
   "nbconvert_exporter": "python",
   "pygments_lexer": "ipython3",
   "version": "3.8.16"
  }
 },
 "nbformat": 4,
 "nbformat_minor": 5
}
