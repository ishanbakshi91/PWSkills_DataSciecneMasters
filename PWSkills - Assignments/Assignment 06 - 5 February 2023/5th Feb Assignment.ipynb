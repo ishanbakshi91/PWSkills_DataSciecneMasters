{
 "cells": [
  {
   "cell_type": "markdown",
   "id": "88db7a6b",
   "metadata": {},
   "source": [
    "# 5th Feb Assignment"
   ]
  },
  {
   "cell_type": "markdown",
   "id": "a6a9cef2",
   "metadata": {},
   "source": [
    "#### Q1. Explain Class and Object with respect to Object-Oriented Programming. Give a suitable example."
   ]
  },
  {
   "cell_type": "markdown",
   "id": "2dddf8e8",
   "metadata": {},
   "source": [
    "Ans. Class is a blueprint or a template for creating objects (instances of a class). It defines a set of attributes (properties) and behaviors (methods) that are common to all objects of that class. In object-oriented programming, a class encapsulates the data and the functions that operate on that data.\n",
    "\n",
    "Example: We can have a class \"pwskills\" with properties like name , course and methods like : Intoduction().\n",
    "\n",
    "\n",
    "\n",
    "An Object, is an instance of a class. It represents a specific entity with its own property values and methods. Objects are instances of classes, created at runtime.\n",
    "\n",
    "Example: we can have object like \"student1\", \"student2\" of class pwskills"
   ]
  },
  {
   "cell_type": "code",
   "execution_count": 1,
   "id": "4df8832d",
   "metadata": {},
   "outputs": [
    {
     "name": "stdout",
     "output_type": "stream",
     "text": [
      "Ishan is the student of 'Data Science Masters' batch\n",
      "Bakshi is the student of 'Full Stack Web Development' batch\n"
     ]
    }
   ],
   "source": [
    "class pwskills:\n",
    "    def __init__(self, name, course):\n",
    "        self.name = name\n",
    "        self.course = course\n",
    "    def Introduction(self):\n",
    "        print(f\"{self.name} is the student of {self.course} batch\")\n",
    "\n",
    "student1 = pwskills(\"Ishan\", \"'Data Science Masters'\")\n",
    "student2 = pwskills(\"Bakshi\", \"'Full Stack Web Development'\")\n",
    "\n",
    "student1.Introduction()\n",
    "student2.Introduction()"
   ]
  },
  {
   "cell_type": "markdown",
   "id": "84ef0c5d",
   "metadata": {},
   "source": [
    "#### Q2. Name the four pillars of OOPs."
   ]
  },
  {
   "cell_type": "markdown",
   "id": "8911f208",
   "metadata": {},
   "source": [
    "Ans: The four pillars of OOPs are: \n",
    "\n",
    "     1 Encapsulation -  wrapping of data (properties) and functions (methods) into a single unit or object. It ensures that the internal representation of an object is hidden from the outside world and can only be accessed through a well-defined interface.\n",
    "     \n",
    "     2 Inheritance - the ability of a new class to inherit the properties and behaviors of an existing class. The new class is called a subclass or derived class, and the existing class is called a superclass or base class.\n",
    "     \n",
    "     3 Abstraction - the process of hiding the implementation details of an object and exposing only the necessary information to the users.\n",
    "     \n",
    "     4 Polymorphism - the ability of objects to take on multiple forms. In OOP, polymorphism is achieved through method overriding and method overloading. It allows objects of different classes to be treated as objects of the same class, enabling code reusability and making the code more flexible and easier to maintain.\n",
    "     "
   ]
  },
  {
   "cell_type": "markdown",
   "id": "4db45187",
   "metadata": {},
   "source": [
    "#### Q3. Explain why the \\_init\\_() function is used. Give a suitable example."
   ]
  },
  {
   "cell_type": "markdown",
   "id": "aed2789a",
   "metadata": {},
   "source": [
    "The \\_init\\_() function is a special method in Python classes, also known as the constructor method. It is automatically called when an object of the class is created. The primary purpose of the \\_init\\_() function is to initialize the object's attributes or properties with the values passed as arguments when the object is created."
   ]
  },
  {
   "cell_type": "code",
   "execution_count": 2,
   "id": "c06b0f9a",
   "metadata": {},
   "outputs": [
    {
     "name": "stdout",
     "output_type": "stream",
     "text": [
      "Ishan\n",
      "30\n",
      "4th Main, 5th Cross.\n"
     ]
    }
   ],
   "source": [
    "class Person:\n",
    "    def __init__(self, name, age, address):\n",
    "        self.name = name\n",
    "        self.age = age\n",
    "        self.address = address\n",
    "\n",
    "person = Person(\"Ishan\", 30, \"4th Main, 5th Cross.\")\n",
    "\n",
    "print(person.name)\n",
    "print(person.age)\n",
    "print(person.address)"
   ]
  },
  {
   "cell_type": "markdown",
   "id": "06b777ef",
   "metadata": {},
   "source": [
    "#### Q4. Why self is used in OOPs?"
   ]
  },
  {
   "cell_type": "markdown",
   "id": "483f2766",
   "metadata": {},
   "source": [
    "Ans: \"self\" refers to the object on which class method is applied. by using the self keyword we can easily access\n",
    "     all the instance of class and its methods. It binds the attributes with the given arguments. The reason you\n",
    "     need to use self is because Python does not use the @ syntax to refer to instance attributes.\n",
    "     self is not a reserve keyword in python. we can use any word instead of self."
   ]
  },
  {
   "cell_type": "markdown",
   "id": "6bf51794",
   "metadata": {},
   "source": [
    "#### Q5. What is inheritance? Give an example for each type of inheritance."
   ]
  },
  {
   "cell_type": "markdown",
   "id": "aa995c86",
   "metadata": {},
   "source": [
    "Ans. Inheritance is defined as the mechenisam of inherit or access all the properties and method of a base claas in a derived child class thus enabling code reusability and the addition of new features to existing code.\n",
    "\n",
    "There are five type of Inheritance:\n",
    "\n",
    "    1. Single Inheritance \n",
    "    2. Multiple Inheritance  \n",
    "    3. Multilevel Inheritance \n",
    "    4. Hierachical Inheritance \n",
    "    5. Hybrid Inheritance\n",
    "    "
   ]
  },
  {
   "cell_type": "code",
   "execution_count": 3,
   "id": "6085890d",
   "metadata": {},
   "outputs": [
    {
     "name": "stdout",
     "output_type": "stream",
     "text": [
      " Single Inheritance \n",
      "\n",
      "This is the functions of base class.\n",
      "This is the function of child class.\n"
     ]
    }
   ],
   "source": [
    "# 1 Single Inheritance : When a child class is inherited from a single base class then that is called single inheritance.\n",
    "\n",
    "# Example: \n",
    "print(\" Single Inheritance \\n\")\n",
    "\n",
    "class Base_class:\n",
    "    def func1(self):\n",
    "        print(\"This is the functions of base class.\")\n",
    "\n",
    "class child_class(Base_class):\n",
    "    def func2(self):\n",
    "        print(\"This is the function of child class.\")\n",
    "\n",
    "obj_1 = child_class()\n",
    "obj_1.func1()\n",
    "obj_1.func2()\n"
   ]
  },
  {
   "cell_type": "code",
   "execution_count": 4,
   "id": "b49bbe29",
   "metadata": {},
   "outputs": [
    {
     "name": "stdout",
     "output_type": "stream",
     "text": [
      "\n",
      " Multiple Inheritance \n",
      "\n",
      "This is the functions of 1st base class.\n",
      "This is the functions of 2nd base class.\n",
      "This is the function of child class.\n"
     ]
    }
   ],
   "source": [
    "# 2 Multiple Inheritance : When a child class is inherited from multiple base classes then that is called multiple inheritance.\n",
    "# Example:\n",
    "print(\"\\n Multiple Inheritance \\n\")\n",
    "    \n",
    "class Base_class_1:\n",
    "    def func1(self):\n",
    "        print(\"This is the functions of 1st base class.\")\n",
    "        \n",
    "class Base_class_2:\n",
    "    def func2(self):\n",
    "        print(\"This is the functions of 2nd base class.\")\n",
    "\n",
    "class child_class(Base_class_1, Base_class_2):\n",
    "    def func3(self):\n",
    "        print(\"This is the function of child class.\")\n",
    "\n",
    "obj_1 = child_class()\n",
    "obj_1.func1()\n",
    "obj_1.func2()\n",
    "obj_1.func3()"
   ]
  },
  {
   "cell_type": "code",
   "execution_count": 5,
   "id": "6823d352",
   "metadata": {},
   "outputs": [
    {
     "name": "stdout",
     "output_type": "stream",
     "text": [
      "\n",
      " Multilevel Inheritance \n",
      "\n",
      "This is the functions of 1st base class.\n",
      "This is the functions of 2st base class.\n",
      "This is the function of child class.\n"
     ]
    }
   ],
   "source": [
    "# 3 Multilevel Inheritance : When a child class is inherited from a base class which is already inherited from other class then \n",
    "                           # that is called multilevel inheritance\n",
    "    \n",
    "print(\"\\n Multilevel Inheritance \\n\")\n",
    "    \n",
    "class Base_class_1:\n",
    "    def func1(self):\n",
    "        print(\"This is the functions of 1st base class.\")\n",
    "        \n",
    "class Base_class_2(Base_class_1):\n",
    "    def func2(self):\n",
    "        print(\"This is the functions of 2st base class.\")\n",
    "\n",
    "class child_class(Base_class_2):\n",
    "    def func3(self):\n",
    "        print(\"This is the function of child class.\")\n",
    "\n",
    "obj_1 = child_class()\n",
    "obj_1.func1()\n",
    "obj_1.func2()\n",
    "obj_1.func3()"
   ]
  },
  {
   "cell_type": "code",
   "execution_count": 6,
   "id": "d15a4847",
   "metadata": {},
   "outputs": [
    {
     "name": "stdout",
     "output_type": "stream",
     "text": [
      "\n",
      " Hierachical Inheritance \n",
      "\n",
      "This is the functions of base class.\n",
      "This is the functions of 1st child class.\n",
      "This is the functions of base class.\n",
      "This is the function of 2nd child class.\n"
     ]
    }
   ],
   "source": [
    "# 4 Hierachical Inheritance : when a base class is inherited into more then one derived class then that \n",
    "                            # is called Hierachical Inheritance.\n",
    "\n",
    "print(\"\\n Hierachical Inheritance \\n\")\n",
    "    \n",
    "class Base_class:\n",
    "    def func1(self):\n",
    "        print(\"This is the functions of base class.\")\n",
    "        \n",
    "class child_1(Base_class):\n",
    "    def func2(self):\n",
    "        print(\"This is the functions of 1st child class.\")\n",
    "\n",
    "class child_2(Base_class):\n",
    "    def func3(self):\n",
    "        print(\"This is the function of 2nd child class.\")\n",
    "\n",
    "obj_1 = child_1()\n",
    "obj_2 = child_2()\n",
    "obj_1.func1()\n",
    "obj_1.func2()\n",
    "obj_2.func1()\n",
    "obj_2.func3()\n"
   ]
  },
  {
   "cell_type": "code",
   "execution_count": 7,
   "id": "93ba8137",
   "metadata": {},
   "outputs": [
    {
     "name": "stdout",
     "output_type": "stream",
     "text": [
      "\n",
      " Hybrid Inheritance \n",
      "\n",
      "This function is in class_1.\n",
      "This function is in class_2. \n"
     ]
    }
   ],
   "source": [
    "# 5 Hybrid Inheritance : When multiple inheritance takes place in a single program then that is called Hybrid Inheritance.\n",
    "\n",
    "print(\"\\n Hybrid Inheritance \\n\")\n",
    "class class_1:\n",
    "    def func1(self):\n",
    "        print(\"This function is in class_1.\")\n",
    " \n",
    " \n",
    "class class_2(class_1):\n",
    "    def func2(self):\n",
    "        print(\"This function is in class_2. \")\n",
    " \n",
    " \n",
    "class class_3(class_1):\n",
    "    def func3(self):\n",
    "        print(\"This function is in class_3.\")\n",
    " \n",
    " \n",
    "class class_4(class_2, class_1):\n",
    "    def func4(self):\n",
    "        print(\"This function is in student 3.\")\n",
    " \n",
    " \n",
    "\n",
    "object = class_4()\n",
    "object.func1()\n",
    "object.func2()"
   ]
  }
 ],
 "metadata": {
  "kernelspec": {
   "display_name": "Python 3 (ipykernel)",
   "language": "python",
   "name": "python3"
  },
  "language_info": {
   "codemirror_mode": {
    "name": "ipython",
    "version": 3
   },
   "file_extension": ".py",
   "mimetype": "text/x-python",
   "name": "python",
   "nbconvert_exporter": "python",
   "pygments_lexer": "ipython3",
   "version": "3.8.16"
  }
 },
 "nbformat": 4,
 "nbformat_minor": 5
}
