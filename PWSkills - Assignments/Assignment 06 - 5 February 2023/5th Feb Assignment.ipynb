{
 "cells": [
  {
   "cell_type": "markdown",
   "id": "dab5ec61",
   "metadata": {},
   "source": [
    "# 5th Feb Assignment"
   ]
  },
  {
   "cell_type": "markdown",
   "id": "1a7dff53",
   "metadata": {},
   "source": [
    "#### Q1. Explain Class and Object with respect to Object-Oriented Programming. Give a suitable example."
   ]
  },
  {
   "cell_type": "markdown",
   "id": "63756010",
   "metadata": {},
   "source": [
    "Ans. Class is a blueprint or a template for creating objects (instances of a class). It defines a set of attributes (properties) and behaviors (methods) that are common to all objects of that class. In object-oriented programming, a class encapsulates the data and the functions that operate on that data.\n",
    "\n",
    "Example: We can have a class\"Pwskills\" with properties like name , course and methods like : Intoduction().\n",
    "\n",
    "An Object, is an instance of a class. It represents a specific entity with its own property values and methods. Objects are instances of classes, created at runtime.\n",
    "\n",
    "Example: we can have object like \"student1\", \"student2\" of class pwskills"
   ]
  },
  {
   "cell_type": "code",
   "execution_count": null,
   "id": "2b52a6b2",
   "metadata": {},
   "outputs": [],
   "source": []
  },
  {
   "cell_type": "markdown",
   "id": "b278e920",
   "metadata": {},
   "source": [
    "#### Q2. Name the four pillars of OOPs."
   ]
  },
  {
   "cell_type": "markdown",
   "id": "71edc83a",
   "metadata": {},
   "source": [
    "Ans: The for pillers of Oops are: \n",
    "\n",
    "     1 Encapsulation\n",
    "     2 Inheritance\n",
    "     3 Abstraction\n",
    "     4 polymorphism"
   ]
  },
  {
   "cell_type": "markdown",
   "id": "137de652",
   "metadata": {},
   "source": [
    "#### Q3. Explain why the \\_init\\_() function is used. Give a suitable example."
   ]
  },
  {
   "cell_type": "markdown",
   "id": "7db77fe7",
   "metadata": {},
   "source": [
    "The \\_init\\_() function is a special method in Python classes, also known as the constructor method. It is automatically called when an object of the class is created. The primary purpose of the \\_init\\_() function is to initialize the object's attributes or properties with the values passed as arguments when the object is created."
   ]
  },
  {
   "cell_type": "code",
   "execution_count": 1,
   "id": "81a4bd4c",
   "metadata": {},
   "outputs": [
    {
     "name": "stdout",
     "output_type": "stream",
     "text": [
      "Ishan\n",
      "30\n",
      "4th Main, 5th Cross.\n"
     ]
    }
   ],
   "source": [
    "class Person:\n",
    "    def __init__(self, name, age, address):\n",
    "        self.name = name\n",
    "        self.age = age\n",
    "        self.address = address\n",
    "\n",
    "person = Person(\"Ishan\", 30, \"4th Main, 5th Cross.\")\n",
    "\n",
    "print(person.name)\n",
    "print(person.age)\n",
    "print(person.address)"
   ]
  },
  {
   "cell_type": "markdown",
   "id": "9424b9f5",
   "metadata": {},
   "source": [
    "#### Q4. Why self is used in OOPs?"
   ]
  },
  {
   "cell_type": "markdown",
   "id": "09ea6e94",
   "metadata": {},
   "source": [
    "Ans: \"self\" refers to the object on which class method is applied. by using the self keyword we can easily access\n",
    "     all the instance of class and its methods. It binds the attributes with the given arguments. The reason you\n",
    "     need to use self is because Python does not use the @ syntax to refer to instance attributes.\n",
    "     self is not a reserve keyword in python. we can use any word instead of self."
   ]
  },
  {
   "cell_type": "markdown",
   "id": "4fb93343",
   "metadata": {},
   "source": [
    "#### Q5. What is inheritance? Give an example for each type of inheritance."
   ]
  },
  {
   "cell_type": "markdown",
   "id": "5ed76485",
   "metadata": {},
   "source": [
    "Ans. Inheritance is a mechanism in object-oriented programming that allows you to create a new class that is a modified version of an existing class. The new class is called the subclass or derived class, and the existing class is called the superclass or base class. The subclass inherits the attributes and behaviors of the superclass, and can add new attributes or override the inherited behaviors.\n",
    "\n",
    "There are five type of Inheritance:\n",
    "   1. Single Inheritance \n",
    "   2. Multiple Inheritance\n",
    "   3. Multilevel Inheritance\n",
    "   4. Hierachical Inheritance\n",
    "   5. Hybrid Inheritance\n",
    "    "
   ]
  },
  {
   "cell_type": "markdown",
   "id": "f3db5954",
   "metadata": {},
   "source": [
    "1. Single inheritance: A subclass inherits from a single base class."
   ]
  },
  {
   "cell_type": "code",
   "execution_count": null,
   "id": "a3b15907",
   "metadata": {},
   "outputs": [],
   "source": []
  }
 ],
 "metadata": {
  "kernelspec": {
   "display_name": "Python 3 (ipykernel)",
   "language": "python",
   "name": "python3"
  },
  "language_info": {
   "codemirror_mode": {
    "name": "ipython",
    "version": 3
   },
   "file_extension": ".py",
   "mimetype": "text/x-python",
   "name": "python",
   "nbconvert_exporter": "python",
   "pygments_lexer": "ipython3",
   "version": "3.8.16"
  }
 },
 "nbformat": 4,
 "nbformat_minor": 5
}
