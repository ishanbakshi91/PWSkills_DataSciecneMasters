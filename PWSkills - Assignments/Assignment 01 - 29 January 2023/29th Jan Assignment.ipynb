{
 "cells": [
  {
   "cell_type": "markdown",
   "id": "da80924a",
   "metadata": {},
   "source": [
    "# 29th Jan Assignment\n",
    "----"
   ]
  },
  {
   "cell_type": "markdown",
   "id": "52d51292",
   "metadata": {},
   "source": [
    "## Assignment 1:"
   ]
  },
  {
   "cell_type": "markdown",
   "id": "84a2057f",
   "metadata": {},
   "source": [
    "### Q1. Who developed Python Programming langauge?\n"
   ]
  },
  {
   "cell_type": "markdown",
   "id": "66380775",
   "metadata": {},
   "source": [
    " Ans. Python was develpoed by Guido van Rossum."
   ]
  },
  {
   "cell_type": "markdown",
   "id": "3544a4d5",
   "metadata": {},
   "source": [
    "### Q2. Which type of Programming does Python support?"
   ]
  },
  {
   "cell_type": "markdown",
   "id": "68312183",
   "metadata": {},
   "source": [
    "Python is an interpreted programming language, supporting object-oriented programming (OOP), structured programming, and functional programming."
   ]
  },
  {
   "cell_type": "markdown",
   "id": "e75484a0",
   "metadata": {},
   "source": [
    "### Q3. Is Python case sensitive when dealing with identifiers?"
   ]
  },
  {
   "cell_type": "markdown",
   "id": "3d05bcfe",
   "metadata": {},
   "source": [
    "Ans. Yes, Python is a case-sensitive language, it treats uppercase and lowercase characters differently. This applies to identifiers as well."
   ]
  },
  {
   "cell_type": "markdown",
   "id": "fccf51be",
   "metadata": {},
   "source": [
    "### Q4. What is the correct extension of python file?"
   ]
  },
  {
   "cell_type": "markdown",
   "id": "35981cbc",
   "metadata": {},
   "source": [
    " Ans. The correct extension of pythonfile is .py"
   ]
  },
  {
   "cell_type": "markdown",
   "id": "ffcf9638",
   "metadata": {},
   "source": [
    "### Q5. Is Python code compiled or interpreted?"
   ]
  },
  {
   "cell_type": "markdown",
   "id": "7df96297",
   "metadata": {},
   "source": [
    " Ans. Python is both compiled as well as an interpreted language, which means when we run a python code, it is first compiled and then interpreted line by line but the compilation part is hidden from the programmer. The compile part gets deleted as soon as the code gets executed in Python so that the programmer doesn’t get onto unnecessary complexity.\n"
   ]
  },
  {
   "cell_type": "markdown",
   "id": "e33b392a",
   "metadata": {},
   "source": [
    "### Q6. Q6. Name a few blocks of code used to define In Python language?"
   ]
  },
  {
   "cell_type": "markdown",
   "id": "efe76191",
   "metadata": {},
   "source": [
    " #### Ans. In Python, there are several blocks of code that are used to define different structures, including:\n",
    "\n",
    "1. Functions: Functions are blocks of code that perform a specific task and can be called multiple times in a program. They are defined using the \"def\" keyword, followed by the function name and the function parameters in parentheses.\n",
    "2. Classes: Classes are blocks of code that define objects and their behaviors. They are defined using the \"class\" keyword, followed by the class name and a colon.\n",
    "3. Loops: Loops are blocks of code that repeat a set of instructions for a specified number of times or until a certain condition is met. There are two main types of loops in Python: \"for\" loops and \"while\" loops.\n",
    "4. Conditional statements: Conditional statements are blocks of code that execute a set of instructions based on a condition. The two main types of conditional statements in Python are \"if\" statements and \"if-else\" statements.\n",
    "5. Try-except blocks: Try-except blocks are blocks of code used to handle exceptions (errors) that may occur during the execution of a program. The \"try\" block contains the code that may raise an exception, and the \"except\" block contains the code that will be executed if an exception occurs."
   ]
  },
  {
   "cell_type": "markdown",
   "id": "91916f07",
   "metadata": {},
   "source": [
    "### Q7. State a character used to give single-line comments in Python?"
   ]
  },
  {
   "cell_type": "markdown",
   "id": "821ca778",
   "metadata": {},
   "source": [
    " Ans. Hash character (#) is used to give  single-line comments in the Python program. Comments does not have to be text to explain the code, it can also be used to prevent Python from executing code."
   ]
  },
  {
   "cell_type": "markdown",
   "id": "fe22b740",
   "metadata": {},
   "source": [
    "### Q8. Mention functions which can help us to find the version of python that we are currently working on?"
   ]
  },
  {
   "cell_type": "markdown",
   "id": "a69f472f",
   "metadata": {},
   "source": [
    " Ans. The function \"sys.version\", \"python_version\" or in terminal type \"python -V\"  can help us to find the version of python that we are currently working on."
   ]
  },
  {
   "cell_type": "code",
   "execution_count": 1,
   "id": "935928b8",
   "metadata": {},
   "outputs": [
    {
     "name": "stdout",
     "output_type": "stream",
     "text": [
      "3.8.8 (default, Apr 13 2021, 15:08:03) [MSC v.1916 64 bit (AMD64)]\n"
     ]
    }
   ],
   "source": [
    "import sys\n",
    "print(sys.version)"
   ]
  },
  {
   "cell_type": "code",
   "execution_count": 2,
   "id": "f9983ed9",
   "metadata": {},
   "outputs": [
    {
     "name": "stdout",
     "output_type": "stream",
     "text": [
      "Current Python Version- 3.8.8\n"
     ]
    }
   ],
   "source": [
    "from platform import python_version\n",
    "print(\"Current Python Version-\", python_version())"
   ]
  },
  {
   "cell_type": "markdown",
   "id": "d60dff88",
   "metadata": {},
   "source": [
    "### Q9. Python supports the creation of anonymous functions at runtime, using a construct called _____________"
   ]
  },
  {
   "cell_type": "markdown",
   "id": "31bfcfe3",
   "metadata": {},
   "source": [
    " Ans. lamda"
   ]
  },
  {
   "cell_type": "markdown",
   "id": "01d25eca",
   "metadata": {},
   "source": [
    "### Q10. What does pip stand for python?"
   ]
  },
  {
   "cell_type": "markdown",
   "id": "a9d6ee2a",
   "metadata": {},
   "source": [
    " Ans. PIP is a package manager for Python package . It is used to manage(Install, Uninstall, Update, etc) additional packages that are not part of the Python standard library."
   ]
  },
  {
   "cell_type": "markdown",
   "id": "9f086ba9",
   "metadata": {},
   "source": [
    "### Q11. Mention a few built-in functions in Python?"
   ]
  },
  {
   "cell_type": "markdown",
   "id": "27ddfb3c",
   "metadata": {},
   "source": [
    "#### Ans. Some built-in functions in Python are -\n",
    "1. print( ) function.\n",
    "2. type( ) function.\n",
    "3. input( ) function.\n",
    "4. abs( ) function.\n",
    "5. pow( ) function.\n",
    "6. dir( ) function.\n",
    "6. sorted( ) function.\n",
    "8. max( ) function."
   ]
  },
  {
   "cell_type": "markdown",
   "id": "921f6be0",
   "metadata": {},
   "source": [
    "### Q12. What is the maximum possible length of an identifier in Python?"
   ]
  },
  {
   "cell_type": "markdown",
   "id": "e59f2f62",
   "metadata": {},
   "source": [
    "Ans. An identifier can have a maximum length of 79 characters in Python."
   ]
  },
  {
   "cell_type": "markdown",
   "id": "a877b15f",
   "metadata": {},
   "source": [
    "### Q13. What are the benefits of using Python?"
   ]
  },
  {
   "cell_type": "markdown",
   "id": "19c69b24",
   "metadata": {},
   "source": [
    "#### Ans. There are many benefits to using Python, including:\n",
    "\n",
    "1. Easy to learn and use: Python has a simple and straight forward syntax, making it easy for new programmers to learn and use.\n",
    "2. High-level programming language: Python provides high-level data structures and supports dynamic typing, making it a good choice for complex applications.\n",
    "3. Versatile: Python is used in a wide range of applications, including web development, scientific computing, data analysis, artificial intelligence, and more.\n",
    "4. Large community: Python has a large and active community of developers who contribute to the development of the language and provide support to its users.\n",
    "5. Open-source: Python is an open-source language, which means that it is free to use and modify, and there are many resources available for learning and using it.\n",
    "6. Cross-platform compatibility: Python can run on many different operating systems, including Windows, MacOS, and Linux, making it a versatile choice for developers."
   ]
  },
  {
   "cell_type": "markdown",
   "id": "c8e91c25",
   "metadata": {},
   "source": [
    "### Q14. How is memory managed in Python?"
   ]
  },
  {
   "cell_type": "markdown",
   "id": "9a69ecac",
   "metadata": {},
   "source": [
    "Ans. Memory management in Python involves a private heap containing all Python objects and data structures. The management of this private heap is ensured internally by the Python memory manager. The Python memory manager has different components which deal with various dynamic storage management aspects, like sharing, segmentation, preallocation or caching."
   ]
  },
  {
   "cell_type": "markdown",
   "id": "c72f38f7",
   "metadata": {},
   "source": [
    "### Q15. How to install Python on Windows and set path variables?"
   ]
  },
  {
   "cell_type": "markdown",
   "id": "84fc0a61",
   "metadata": {},
   "source": [
    "#### Ans. To install Python on Windows:\n",
    "\n",
    "1. Go to the official Python website (https://www.python.org/downloads/) and download the latest version of Python for Windows.\n",
    "2. Run the Python installation file and follow the on-screen instructions. Make sure to select the option to add Python to your PATH environment variable.\n",
    "\n",
    "To set the PATH environment variable:\n",
    "\n",
    "1. Right-click on the Windows Start button and select \"System\" or search for \"Environment Variables\" in the Windows search bar.\n",
    "2. Click on \"Environment Variables.\"\n",
    "3. Under \"System Variables,\" scroll down and find the \"Path\" variable, then click on \"Edit.\"\n",
    "4. Click on \"New\" and add the path to the Python installation (e.g., \"C:\\Python38\").\n",
    "5. Click \"OK\" to close all windows and save the changes.\n",
    "\n",
    "Now you can open a Command Prompt window and run Python from any location on your computer."
   ]
  },
  {
   "cell_type": "markdown",
   "id": "4592b09a",
   "metadata": {},
   "source": [
    "### Q16. Is indentation required In python?"
   ]
  },
  {
   "cell_type": "markdown",
   "id": "540df727",
   "metadata": {},
   "source": [
    "Ans. Yes, indentation is required in Python to define code blocks and scope. It is a crucial part of the Python syntax and used to indicate the start and end of blocks of code. The number of spaces used for indentation is up to the programmer, but it is recommended to use 4 spaces per level of indentation for consistency within the Python community."
   ]
  },
  {
   "cell_type": "code",
   "execution_count": null,
   "id": "60994b1f",
   "metadata": {},
   "outputs": [],
   "source": []
  }
 ],
 "metadata": {
  "kernelspec": {
   "display_name": "Python 3",
   "language": "python",
   "name": "python3"
  },
  "language_info": {
   "codemirror_mode": {
    "name": "ipython",
    "version": 3
   },
   "file_extension": ".py",
   "mimetype": "text/x-python",
   "name": "python",
   "nbconvert_exporter": "python",
   "pygments_lexer": "ipython3",
   "version": "3.8.8"
  }
 },
 "nbformat": 4,
 "nbformat_minor": 5
}
