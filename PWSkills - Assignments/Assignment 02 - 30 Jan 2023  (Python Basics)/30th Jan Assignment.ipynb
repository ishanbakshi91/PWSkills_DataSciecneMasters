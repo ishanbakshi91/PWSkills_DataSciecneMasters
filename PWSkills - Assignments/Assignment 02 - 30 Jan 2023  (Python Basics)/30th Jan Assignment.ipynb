{
 "cells": [
  {
   "cell_type": "markdown",
   "id": "de3554d5",
   "metadata": {},
   "source": [
    "# 30th Jan Assignment\n",
    "---"
   ]
  },
  {
   "cell_type": "markdown",
   "id": "969b7054",
   "metadata": {},
   "source": [
    "## Assignment 2:"
   ]
  },
  {
   "cell_type": "markdown",
   "id": "8f6738ca",
   "metadata": {},
   "source": [
    "#### Q1. Write a program to accept percentage from the user and display the grade according to the following criteria: \n",
    "\n",
    "| Marks           | Grade   |\n",
    "| --------------- | ------- |\n",
    "| >90             | A       |\n",
    "| >80 and <= 90   | B       |\n",
    "| >=60 and <= 80  | C       |\n",
    "| below 60        | D       |"
   ]
  },
  {
   "cell_type": "code",
   "execution_count": 1,
   "id": "a33c9a17",
   "metadata": {},
   "outputs": [
    {
     "name": "stdout",
     "output_type": "stream",
     "text": [
      "Enter your marks (in Percentage): 94\n",
      "Your Grade is A\n"
     ]
    }
   ],
   "source": [
    "percentage = int(input(\"Enter your marks (in Percentage): \"))\n",
    "if percentage > 90 and percentage <= 100 :\n",
    "    print (\"Your Grade is A\")    \n",
    "elif percentage <= 90 and percentage > 80 :\n",
    "    print (\"Your Grade is B\")                     \n",
    "elif percentage <= 80 and percentage >= 60 :\n",
    "    print (\"Your Grade is C\")\n",
    "elif percentage < 60 :\n",
    "    print (\"Your Grade is D\")\n",
    "else :\n",
    "    print(\"Invalid Input\")"
   ]
  },
  {
   "cell_type": "markdown",
   "id": "ce06801e",
   "metadata": {},
   "source": [
    "#### Q2. Write a program to accept the cost price of a bike and display the road tax to be paid according to the following criteria: \n",
    "\n",
    "| Tax             | Cost Price (In Rs.)   |\n",
    "| --------------- | -------               |\n",
    "| 15%             | > 100000              |\n",
    "| 10%             | > 50000 and <= 100000 |\n",
    "| 5%              | <= 50000              |\n"
   ]
  },
  {
   "cell_type": "code",
   "execution_count": 2,
   "id": "567bd915",
   "metadata": {},
   "outputs": [
    {
     "name": "stdout",
     "output_type": "stream",
     "text": [
      "Enter Cost Price of Bike 100089\n",
      "Your have to pay 15% Road Tax which is 15013.35\n"
     ]
    }
   ],
   "source": [
    "\n",
    "cost_price = int(input(\"Enter Cost Price of Bike \"))\n",
    "if cost_price > 100000 :\n",
    "    print (\"Your have to pay 15% Road Tax which is {:.2f}\".format(0.15*cost_price))\n",
    "elif cost_price <= 100000 and cost_price > 50000 :\n",
    "    print (\"Your have to pay 10% Road Tax which is {:.2f}\".format(0.10*cost_price))                   \n",
    "elif cost_price <= 50000 :\n",
    "    print (\"Your have to pay 5% Road Tax which is {:.2f}\".format(0.05*cost_price))  "
   ]
  },
  {
   "cell_type": "markdown",
   "id": "526bc8d1",
   "metadata": {},
   "source": [
    "#### Q3. Accept any city from the user and display monuments of that city.\n",
    "\n",
    "| City      | Monument  |\n",
    "| --------- | -------   |\n",
    "| Delhi     | Red Fort  |\n",
    "| Agra      | Taj Mahal |\n",
    "| Jaipur    | Jal Mahal |\n"
   ]
  },
  {
   "cell_type": "code",
   "execution_count": 3,
   "id": "cd457abf",
   "metadata": {},
   "outputs": [
    {
     "name": "stdout",
     "output_type": "stream",
     "text": [
      "Enter any city name: delhi\n",
      "Famous Monument in Delhi is Red Fort\n"
     ]
    }
   ],
   "source": [
    "\n",
    "city = input(\"Enter any city name: \")\n",
    "city = city.lower()\n",
    "if city == \"delhi\":\n",
    "    print (\"Famous Monument in Delhi is Red Fort\")    \n",
    "elif city == \"agra\":\n",
    "    print (\"Famous Monument in Agra is Taj Mahal\")                     \n",
    "elif city == \"jaipur\":\n",
    "    print (\"Famous Monument in Jaipur is Jal Mahal\")\n",
    "else :\n",
    "    print(\"!! Invalid input !!\")"
   ]
  },
  {
   "cell_type": "markdown",
   "id": "d43b33bc",
   "metadata": {},
   "source": [
    "#### Q4. Check how many times a given number can be divided by 3 before it is less than or equal to 10. "
   ]
  },
  {
   "cell_type": "code",
   "execution_count": 4,
   "id": "fec1f113",
   "metadata": {},
   "outputs": [
    {
     "name": "stdout",
     "output_type": "stream",
     "text": [
      "Enter any number 9654\n",
      "9654 can be divided by 3, 7 number of times before it's less than or equal to 10 \n"
     ]
    }
   ],
   "source": [
    "count = 0\n",
    "number = int(input(\"Enter any number \"))\n",
    "n1 = number\n",
    "while (n1 > 10) :\n",
    "    n1 = n1/3\n",
    "    count+= 1 \n",
    "print(f\"{number} can be divided by 3, {count} number of times before it's less than or equal to 10 \")"
   ]
  },
  {
   "cell_type": "markdown",
   "id": "58ec1974",
   "metadata": {},
   "source": [
    "#### Q5. Why and When to Use while Loop in Python give a detailed description with example."
   ]
  },
  {
   "cell_type": "markdown",
   "id": "f0c0c6b7",
   "metadata": {},
   "source": [
    "Ans. The while loop in Python is used when you want to repeatedly execute a block of code as long as a certain condition is met. The loop continues to execute as long as the condition is True.\n",
    "\n",
    "Here's an example of how to use a while loop in Python:\n"
   ]
  },
  {
   "cell_type": "code",
   "execution_count": 5,
   "id": "344f1b37",
   "metadata": {},
   "outputs": [
    {
     "name": "stdout",
     "output_type": "stream",
     "text": [
      "0\n",
      "1\n",
      "2\n",
      "3\n",
      "4\n"
     ]
    }
   ],
   "source": [
    "count = 0\n",
    "\n",
    "# While loop\n",
    "\n",
    "while count < 5:\n",
    "    print(count)\n",
    "    count += 1"
   ]
  },
  {
   "cell_type": "markdown",
   "id": "da61911e",
   "metadata": {},
   "source": [
    "In above example, the while loop will continue to execute as long as count is less than 5. The value of count is incremented by 1 after each iteration, so eventually the condition count < 5 will become False, causing the loop to stop.\n",
    "\n",
    "It's important to make sure that the condition in a while loop eventually becomes False, otherwise the loop will run forever (an infinite loop), which can cause your program to hang or crash."
   ]
  },
  {
   "cell_type": "markdown",
   "id": "cf9fc782",
   "metadata": {},
   "source": [
    "#### Q6. Use nested while loop to print 3 different pattern. "
   ]
  },
  {
   "cell_type": "code",
   "execution_count": 6,
   "id": "b2337bc5",
   "metadata": {},
   "outputs": [
    {
     "name": "stdout",
     "output_type": "stream",
     "text": [
      "Number of Rows4\n",
      "****\n",
      "***\n",
      "**\n",
      "*\n"
     ]
    }
   ],
   "source": [
    "## Pattern 1\n",
    "\n",
    "n =int(input(\"Number of Rows\"))\n",
    "while(n>0) :\n",
    "    print (\"*\"*n)\n",
    "    n -= 1"
   ]
  },
  {
   "cell_type": "code",
   "execution_count": 7,
   "id": "a4302171",
   "metadata": {},
   "outputs": [
    {
     "name": "stdout",
     "output_type": "stream",
     "text": [
      "Number of Rows5\n",
      "    *\n",
      "   **\n",
      "  ***\n",
      " ****\n",
      "*****\n"
     ]
    }
   ],
   "source": [
    "## Pattern 2\n",
    "\n",
    "n =int(input(\"Number of Rows\"))\n",
    "a = 1\n",
    "while(n>0) :\n",
    "    n -= 1\n",
    "    print (\" \"*n, end=\"*\"*a+\"\\n\")\n",
    "    a += 1"
   ]
  },
  {
   "cell_type": "code",
   "execution_count": 8,
   "id": "efb38a5c",
   "metadata": {},
   "outputs": [
    {
     "name": "stdout",
     "output_type": "stream",
     "text": [
      "Number of Rows6\n",
      "     *     \n",
      "    ***    \n",
      "   *****   \n",
      "  *******  \n",
      " ********* \n",
      "***********\n"
     ]
    }
   ],
   "source": [
    "## Pattern 3\n",
    "\n",
    "n =int(input(\"Number of Rows\"))\n",
    "a = 1\n",
    "while(n>0) :\n",
    "    n -= 1\n",
    "    print (\" \"*n +\"*\"*a ,end=\" \"*n+\"\\n\")\n",
    "    a += 2"
   ]
  },
  {
   "cell_type": "markdown",
   "id": "3ad3bde9",
   "metadata": {},
   "source": [
    "#### Q7. Reverse a while loop to display numbers from 10 to 1 "
   ]
  },
  {
   "cell_type": "code",
   "execution_count": 9,
   "id": "3bac88ff",
   "metadata": {},
   "outputs": [
    {
     "name": "stdout",
     "output_type": "stream",
     "text": [
      "10\n",
      "9\n",
      "8\n",
      "7\n",
      "6\n",
      "5\n",
      "4\n",
      "3\n",
      "2\n",
      "1\n"
     ]
    }
   ],
   "source": [
    "\n",
    "i = 10\n",
    "while i > 0:\n",
    "    print(i)\n",
    "    i -=  1"
   ]
  },
  {
   "cell_type": "markdown",
   "id": "4b60c986",
   "metadata": {},
   "source": [
    "#### Q8. Reverse a while loop to display numbers from 10 to 1 "
   ]
  },
  {
   "cell_type": "code",
   "execution_count": 10,
   "id": "b3c0568f",
   "metadata": {
    "scrolled": true
   },
   "outputs": [
    {
     "name": "stdout",
     "output_type": "stream",
     "text": [
      "10\n",
      "9\n",
      "8\n",
      "7\n",
      "6\n",
      "5\n",
      "4\n",
      "3\n",
      "2\n",
      "1\n"
     ]
    }
   ],
   "source": [
    "\n",
    "i = 10\n",
    "while i > 0:\n",
    "    print(i)\n",
    "    i -=  1"
   ]
  }
 ],
 "metadata": {
  "kernelspec": {
   "display_name": "Python 3",
   "language": "python",
   "name": "python3"
  },
  "language_info": {
   "codemirror_mode": {
    "name": "ipython",
    "version": 3
   },
   "file_extension": ".py",
   "mimetype": "text/x-python",
   "name": "python",
   "nbconvert_exporter": "python",
   "pygments_lexer": "ipython3",
   "version": "3.8.8"
  }
 },
 "nbformat": 4,
 "nbformat_minor": 5
}
