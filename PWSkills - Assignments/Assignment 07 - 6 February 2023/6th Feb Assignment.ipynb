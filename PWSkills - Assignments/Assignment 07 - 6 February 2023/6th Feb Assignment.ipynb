{
 "cells": [
  {
   "cell_type": "markdown",
   "id": "4d8c8ea1",
   "metadata": {},
   "source": [
    "# 6th Feb Assignment\n",
    "---"
   ]
  },
  {
   "cell_type": "markdown",
   "id": "18ba7816",
   "metadata": {},
   "source": [
    "#### Q1. Create a function which will take a list as an argument and return the product of all the numbers after creating a flat list. \n",
    "\n",
    "#### Use the below-given list as an argument for your function.\n",
    "\n",
    "list1 = [1,2,3,4, [44,55,66, True], False, (34,56,78,89,34), {1,2,3,3,2,1}, {1:34, \"key2\": [55, 67, 78, 89], 4: (45,22, 61, 34)}, [56, 'data science'], 'Machine Learning']\n",
    "\n",
    "#### Note: You must extract numeric keys and values of the dictionary also."
   ]
  },
  {
   "cell_type": "code",
   "execution_count": 1,
   "id": "f447e1a0",
   "metadata": {},
   "outputs": [
    {
     "name": "stdout",
     "output_type": "stream",
     "text": [
      "4134711838987085478833841242112000\n"
     ]
    }
   ],
   "source": [
    "from functools import reduce\n",
    "def fun(l):\n",
    "#     declaring the empty list to store the values\n",
    "    fl = []\n",
    "    for i in l:\n",
    "#       for integers\n",
    "        if type(i) is int:\n",
    "            fl.append(i)\n",
    "            \n",
    "#       for lists\n",
    "        if type(i) is list:\n",
    "            for j in i:\n",
    "                if type(j) is int:\n",
    "                    fl.append(j)\n",
    "#       for tuple           \n",
    "        if type(i) is tuple:\n",
    "            for j in i:\n",
    "                if type(j) is int:\n",
    "                    fl.append(j)\n",
    "                    \n",
    "#       for set        \n",
    "        if type(i) is set:\n",
    "            i = list(i)\n",
    "            for j in i:\n",
    "                if type(j) is int:\n",
    "                    fl.append(j)\n",
    "                    \n",
    "#       for dictionaries\n",
    "        if type(i) is dict:\n",
    "            keys = i.keys()\n",
    "            values = i.values()\n",
    "#           for kyes \n",
    "            for items in keys:\n",
    "                if type(items) is int:\n",
    "                    fl.append(items)\n",
    "#           for values\n",
    "            for items in values:\n",
    "                if type(items) is int:\n",
    "                    fl.append(items)\n",
    "                if type(items) is tuple:\n",
    "                    for item in items:\n",
    "                        fl.append(item)\n",
    "                if type(items) is list:\n",
    "                    for item in items:\n",
    "                        fl.append(item)\n",
    "                if type(items) is dict:\n",
    "                    fun(items)\n",
    "                    \n",
    "    final  = reduce(lambda x,y : x*y , fl )\n",
    "                \n",
    "    return final\n",
    "    \n",
    "list1 = [1,2,3,4, [44,55,66, True], False, (34,56,78,89,34), {1,2,3,3,2,1}, {1:34, \"key2\": [55, 67, 78, 89], 4: (45,\n",
    "22, 61, 34)}, [56, 'data science'], 'Machine Learning']\n",
    "x = fun(list1)\n",
    "print(x)"
   ]
  },
  {
   "cell_type": "markdown",
   "id": "e4ad6a6b",
   "metadata": {},
   "source": [
    "#### Q2. Write a python program for encrypting a message sent to you by your friend. The logic of encryption should be such that, for a the output should be z. For b, the output should be y. For c, the output should be x respectively. Also, the whitespace should be replaced with a dollar sign. Keep the punctuation marks unchanged.\n",
    "\n",
    "#### Input Sentence: I want to become a Data Scientist.\n",
    "\n",
    "#### Encrypt the above input sentence using the program you just created.\n",
    "\n",
    "#### Note: Convert the given input sentence into lowercase before encrypting. The final output should be lowercase."
   ]
  },
  {
   "cell_type": "code",
   "execution_count": 2,
   "id": "3250075a",
   "metadata": {},
   "outputs": [
    {
     "data": {
      "text/plain": [
       "'r$dzmg$gl$yvxlnv$z$wzgz$hxrvmgrhg.'"
      ]
     },
     "execution_count": 2,
     "metadata": {},
     "output_type": "execute_result"
    }
   ],
   "source": [
    "import string\n",
    "def encrypted_message(strg):\n",
    "    \"\"\"\n",
    "    This function returns encrypted string as mentioned in the question 2\n",
    "    \"\"\"\n",
    "\n",
    "    # Step 1 : Creating dictionary {'a':'z','b':'y',...,'z':a}\n",
    "    ascii_alph = string.ascii_lowercase\n",
    "    encrypted_dict = dict(zip(ascii_alph, ascii_alph[::-1]))\n",
    "\n",
    "    # Step 2 : Add space key as $ in dictionary\n",
    "    encrypted_dict[' ']='$'\n",
    "\n",
    "    # Step 3 : Add punctuation marks as it is\n",
    "    for i in string.punctuation:\n",
    "        encrypted_dict[i]=i\n",
    "\n",
    "    # Step 4 : Adding Numbers and keeping them same:\n",
    "    for num in range(0,10):\n",
    "        encrypted_dict[str(num)]=str(num)\n",
    "    \n",
    "    # Dictionary creation is completed \n",
    "\n",
    "    # Step 5 : Initialize blank string encrypt_out\n",
    "    encrypt_out = ''\n",
    "\n",
    "    # Step 6 : Apply for loop to input and use encrypted_dict\n",
    "    # Use lowercase for case unification\n",
    "    for char in strg.lower():\n",
    "        encrypt_out = encrypt_out + encrypted_dict[char]\n",
    "    \n",
    "    return encrypt_out\n",
    "\n",
    "# Final Output\n",
    "inp = \"I want to become a Data Scientist.\"\n",
    "encrypted_message(inp)"
   ]
  }
 ],
 "metadata": {
  "kernelspec": {
   "display_name": "Python 3 (ipykernel)",
   "language": "python",
   "name": "python3"
  },
  "language_info": {
   "codemirror_mode": {
    "name": "ipython",
    "version": 3
   },
   "file_extension": ".py",
   "mimetype": "text/x-python",
   "name": "python",
   "nbconvert_exporter": "python",
   "pygments_lexer": "ipython3",
   "version": "3.8.16"
  }
 },
 "nbformat": 4,
 "nbformat_minor": 5
}
