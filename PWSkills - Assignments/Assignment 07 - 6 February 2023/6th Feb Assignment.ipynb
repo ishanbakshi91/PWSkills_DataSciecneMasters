{
 "cells": [
  {
   "cell_type": "markdown",
   "id": "4d8c8ea1",
   "metadata": {},
   "source": [
    "# 6th Feb Assignment\n",
    "---"
   ]
  },
  {
   "cell_type": "markdown",
   "id": "18ba7816",
   "metadata": {},
   "source": [
    "#### Q1. Create a function which will take a list as an argument and return the product of all the numbers after creating a flat list. \n",
    "\n",
    "#### Use the below-given list as an argument for your function.\n",
    "\n",
    "list1 = [1,2,3,4, [44,55,66, True], False, (34,56,78,89,34), {1,2,3,3,2,1}, {1:34, \"key2\": [55, 67, 78, 89], 4: (45,22, 61, 34)}, [56, 'data science'], 'Machine Learning']\n",
    "\n",
    "#### Note: You must extract numeric keys and values of the dictionary also."
   ]
  },
  {
   "cell_type": "code",
   "execution_count": 1,
   "id": "f8ec0f24",
   "metadata": {},
   "outputs": [
    {
     "name": "stdout",
     "output_type": "stream",
     "text": [
      "\n",
      "Original given list is:  [1, 2, 3, 4, [44, 55, 66, True], False, (34, 56, 78, 89, 34), {1, 2, 3}, {1: 34, 'key2': [55, 67, 78, 89], 4: (45, 22, 61, 34)}, [56, 'data science'], 'Machine Learning']\n",
      "\n",
      "The flat list with all the elements is: [1, 2, 3, 4, 44, 55, 66, True, False, 34, 56, 78, 89, 34, 1, 2, 3, 1, 'key2', 4, 34, 55, 67, 78, 89, 45, 22, 61, 34, 56, 'data science', 'Machine Learning']\n",
      "\n",
      "The list with all numbers is: [1, 2, 3, 4, 44, 55, 66, 34, 56, 78, 89, 34, 1, 2, 3, 1, 4, 34, 55, 67, 78, 89, 45, 22, 61, 34, 56]\n",
      "\n",
      "The product of all numbers: 4134711838987085478833841242112000\n"
     ]
    }
   ],
   "source": [
    "from functools import reduce\n",
    "\n",
    "def product(list1):\n",
    "    flat_list=[]\n",
    "    for i in list1:\n",
    "        if type(i)==list or type(i)==tuple:\n",
    "            for j in i:\n",
    "                flat_list.append(j)\n",
    "        elif type(i)==int or type(i)==str or type(i)==bool:\n",
    "            flat_list.append(i)\n",
    "        elif type(i)==set:\n",
    "            for j in i:\n",
    "                flat_list.append(j)\n",
    "        else:\n",
    "            for j in i.keys():\n",
    "                flat_list.append(j)\n",
    "            for k in i.values():\n",
    "                if type(k)==int:\n",
    "                    flat_list.append(k)\n",
    "                else:\n",
    "                    for r in k:\n",
    "                        flat_list.append(r)\n",
    "        \n",
    "    \n",
    "    num_list= list(filter(lambda x: type(x)==int,  flat_list))\n",
    "   \n",
    "    product_of_no= reduce(lambda x,y: x*y,  num_list)\n",
    "    return flat_list,num_list,product_of_no\n",
    "\n",
    "\n",
    "list1 = [1,2,3,4, [44,55,66, True], False, (34,56,78,89,34), {1,2,3,3,2,1}, {1:34, \"key2\": [55, 67, 78, 89], 4: (45,\n",
    "22, 61, 34)}, [56, \"data science\"], \"Machine Learning\"]\n",
    "   \n",
    "flat_list, num_list, product_of_no=product(list1)\n",
    "\n",
    "print(\"\\nOriginal given list is: \",list1)\n",
    "print(\"\\nThe flat list with all the elements is:\" ,flat_list)\n",
    "print(\"\\nThe list with all numbers is:\",num_list)\n",
    "print(\"\\nThe product of all numbers:\",product_of_no)\n"
   ]
  },
  {
   "cell_type": "markdown",
   "id": "e4ad6a6b",
   "metadata": {},
   "source": [
    "#### Q2. Write a python program for encrypting a message sent to you by your friend. The logic of encryption should be such that, for a the output should be z. For b, the output should be y. For c, the output should be x respectively. Also, the whitespace should be replaced with a dollar sign. Keep the punctuation marks unchanged.\n",
    "\n",
    "#### Input Sentence: I want to become a Data Scientist.\n",
    "\n",
    "#### Encrypt the above input sentence using the program you just created.\n",
    "\n",
    "#### Note: Convert the given input sentence into lowercase before encrypting. The final output should be lowercase."
   ]
  },
  {
   "cell_type": "code",
   "execution_count": 2,
   "id": "a93af4c6",
   "metadata": {},
   "outputs": [
    {
     "name": "stdout",
     "output_type": "stream",
     "text": [
      "Given string : I want to become a Data Scientist.\n",
      "\n",
      "Encrypted Message : r$dzmg$gl$yvxlnv$z$wzgz$hxrvmgrhg.\n"
     ]
    }
   ],
   "source": [
    "def Encrypt_msg(string):\n",
    "    lstring = string.lower()\n",
    "    print(f\"Given string : {string}\\n\")\n",
    "    new_string = \"\"\n",
    "    for i in lstring:\n",
    "        ascii_num = ord(i)\n",
    "        if ascii_num >= 97 and ascii_num <= 122:\n",
    "            new_string = new_string + chr(122 - (ascii_num - 97))\n",
    "        elif i == \" \":\n",
    "            new_string = new_string + \"$\"\n",
    "        else:\n",
    "            new_string = new_string + i\n",
    "    print(f\"Encrypted Message : {new_string}\")\n",
    "    \n",
    "    \n",
    "string = \"I want to become a Data Scientist.\"\n",
    "Encrypt_msg(string)"
   ]
  },
  {
   "cell_type": "code",
   "execution_count": null,
   "id": "9e4baa11",
   "metadata": {},
   "outputs": [],
   "source": []
  }
 ],
 "metadata": {
  "kernelspec": {
   "display_name": "Python 3 (ipykernel)",
   "language": "python",
   "name": "python3"
  },
  "language_info": {
   "codemirror_mode": {
    "name": "ipython",
    "version": 3
   },
   "file_extension": ".py",
   "mimetype": "text/x-python",
   "name": "python",
   "nbconvert_exporter": "python",
   "pygments_lexer": "ipython3",
   "version": "3.8.16"
  }
 },
 "nbformat": 4,
 "nbformat_minor": 5
}
