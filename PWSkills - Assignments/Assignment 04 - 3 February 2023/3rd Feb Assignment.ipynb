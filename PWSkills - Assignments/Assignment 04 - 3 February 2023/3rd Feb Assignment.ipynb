{
 "cells": [
  {
   "cell_type": "markdown",
   "id": "a65ab2f6",
   "metadata": {},
   "source": [
    "# 3rd Feb Assignment"
   ]
  },
  {
   "cell_type": "markdown",
   "id": "a0efb2f6",
   "metadata": {},
   "source": [
    "#### Q1. Which keyword is used to create a function? Create a function to return a list of odd numbers in the range of 1 to 25."
   ]
  },
  {
   "cell_type": "markdown",
   "id": "21ec9663",
   "metadata": {},
   "source": [
    "Ans. 'def' keyword is used to create a fuction."
   ]
  },
  {
   "cell_type": "code",
   "execution_count": 1,
   "id": "b7581bab",
   "metadata": {},
   "outputs": [
    {
     "name": "stdout",
     "output_type": "stream",
     "text": [
      "[1, 3, 5, 7, 9, 11, 13, 15, 17, 19, 21, 23, 25]\n"
     ]
    }
   ],
   "source": [
    "def odd_num():\n",
    "    n = []\n",
    "    for i in range(1,26):\n",
    "        if i%2 != 0:\n",
    "            n.append(i)\n",
    "    return n\n",
    "\n",
    "print(odd_num())"
   ]
  },
  {
   "cell_type": "markdown",
   "id": "369cdcab",
   "metadata": {},
   "source": [
    "#### Q2. Why **args and **kwargs is used in some functions? Create a function each for *args and **kwargs to demonstrate their use."
   ]
  },
  {
   "cell_type": "markdown",
   "id": "898115c1",
   "metadata": {},
   "source": [
    "Ans. *args and **kwargs are used in functions to pass a variable number of arguments to the function.\n",
    "\n",
    "*args is used to send a non-keyworded variable length argument list to the function. It allows the function to receive a dynamic number of non-keyword arguments, and these arguments are packed into a tuple.\n",
    "\n",
    "**kwargs allows a keyworded, variable-length argument list. It passes keyworded variable length of arguments to a function. The arguments are passed in the form of key-value pairs and packed into a dictionary."
   ]
  },
  {
   "cell_type": "code",
   "execution_count": 2,
   "id": "789a9b5a",
   "metadata": {},
   "outputs": [
    {
     "name": "stdout",
     "output_type": "stream",
     "text": [
      "This is a test function\n",
      "Non-keyworded arguments: (1, 2, 3, 4, 5)\n",
      "Keyworded arguments: {'name': 'Ishan', 'age': 30}\n"
     ]
    }
   ],
   "source": [
    "def test_func(*args, **kwargs):\n",
    "    print(\"This is a test function\")\n",
    "    print(\"Non-keyworded arguments:\", args)\n",
    "    print(\"Keyworded arguments:\", kwargs)\n",
    "   \n",
    "test_func(1, 2, 3, 4, 5, name=\"Ishan\", age=30)\n",
    "    "
   ]
  },
  {
   "cell_type": "markdown",
   "id": "9feb42bc",
   "metadata": {},
   "source": [
    "#### Q3. What is an iterator in python? Name the method used to initialise the iterator object and the method used for iteration. Use these methods to print the first five elements of the given list [2, 4, 6, 8, 10, 12, 14, 16, 18, 20]."
   ]
  },
  {
   "cell_type": "markdown",
   "id": "ef466996",
   "metadata": {},
   "source": [
    "Ans: Iterator in Python is an object that is used to iterate over iterable objects like lists, tuples, dicts, and sets.\n",
    "\n",
    "The iterator object is initialized using the iter() method. It uses the next() method for iteration.\n",
    "\n",
    "iter(): The iter() method is called for the initialization of an iterator. This returns an iterator object\n",
    "next(): The next method returns the next value for the iterable. When we use a for loop to traverse any iterable object, internally it uses the iter() method to get an iterator object, which further uses the next() method"
   ]
  },
  {
   "cell_type": "code",
   "execution_count": 3,
   "id": "d263c4e0",
   "metadata": {},
   "outputs": [
    {
     "name": "stdout",
     "output_type": "stream",
     "text": [
      "2\n",
      "4\n",
      "6\n",
      "8\n",
      "10\n"
     ]
    }
   ],
   "source": [
    "list = [2,4,6,8,10,12,14,16,20]\n",
    "\n",
    "i=0\n",
    "iter = iter(list)\n",
    "while i<+5:\n",
    "    print(next(iter))\n",
    "    i+=1"
   ]
  },
  {
   "cell_type": "markdown",
   "id": "3b907ca4",
   "metadata": {},
   "source": [
    "#### Q4. What is a generator function in python? Why yield keyword is used? Give an example of a generator function."
   ]
  },
  {
   "cell_type": "markdown",
   "id": "6fdfb76e",
   "metadata": {},
   "source": [
    "Ans. A generator function in Python is a special type of function that returns a generator iterator. It uses the yield keyword instead of return to return multiple values one at a time, instead of all at once.\n",
    "\n",
    "The yield keyword is used to return a value from the generator function and pause its execution. When the function is called again, it resumes execution immediately after the yield statement. This allows the generator function to generate an iterable sequence of values, which can be iterated over in a for loop or using the next() method."
   ]
  },
  {
   "cell_type": "code",
   "execution_count": 4,
   "id": "d60717a5",
   "metadata": {},
   "outputs": [
    {
     "name": "stdout",
     "output_type": "stream",
     "text": [
      "0\n",
      "1\n",
      "2\n",
      "3\n",
      "4\n",
      "5\n"
     ]
    }
   ],
   "source": [
    "#creating my generator object to get all values from 0 to n-1 for an integer n\n",
    "def my_generator(n):\n",
    "    i=0\n",
    "    while i<n:\n",
    "        yield i\n",
    "        i+=1\n",
    "        \n",
    "#iterating over my_generator to get the values\n",
    "for value in my_generator(6):\n",
    "    print(value)"
   ]
  },
  {
   "cell_type": "markdown",
   "id": "e5b7e6b3",
   "metadata": {},
   "source": [
    "#### Q5. Create a generator function for prime numbers less than 1000. Use the next() method to print the first 20 prime numbers."
   ]
  },
  {
   "cell_type": "code",
   "execution_count": 5,
   "id": "44c855eb",
   "metadata": {},
   "outputs": [
    {
     "name": "stdout",
     "output_type": "stream",
     "text": [
      "2\n",
      "3\n",
      "5\n",
      "7\n",
      "11\n",
      "13\n",
      "17\n",
      "19\n",
      "23\n",
      "29\n",
      "31\n",
      "37\n",
      "41\n",
      "43\n",
      "47\n",
      "53\n",
      "59\n",
      "61\n",
      "67\n",
      "71\n"
     ]
    }
   ],
   "source": [
    "def prime_number():\n",
    "    for n in range(2,1000):\n",
    "        for i in range(2,n):\n",
    "            if(n%i==0):\n",
    "                break\n",
    "        else:\n",
    "            yield n\n",
    "            \n",
    "\n",
    "prime_gen = prime_number()\n",
    "for i in range(1,21):\n",
    "    print(next(prime_gen))"
   ]
  },
  {
   "cell_type": "markdown",
   "id": "b8c79e6d",
   "metadata": {},
   "source": [
    "#### Q6. Write a python program to print the first 10 Fibonacci numbers using a while loop."
   ]
  },
  {
   "cell_type": "code",
   "execution_count": 6,
   "id": "33422778",
   "metadata": {},
   "outputs": [
    {
     "name": "stdout",
     "output_type": "stream",
     "text": [
      "0\n",
      "1\n",
      "1\n",
      "2\n",
      "3\n",
      "5\n",
      "8\n",
      "13\n",
      "21\n",
      "34\n"
     ]
    }
   ],
   "source": [
    "a, b = 0, 1\n",
    "count = 0\n",
    "while count < 10:\n",
    "    print(a)\n",
    "    a, b = b, a + b\n",
    "    count += 1"
   ]
  },
  {
   "cell_type": "markdown",
   "id": "8d5c6cd8",
   "metadata": {},
   "source": [
    "#### Q7. Write a List Comprehension to iterate through the given string: ‘pwskills’. Expected output: ['p', 'w', 's', 'k', 'i', 'l', 'l', 's']"
   ]
  },
  {
   "cell_type": "code",
   "execution_count": 7,
   "id": "55b806d6",
   "metadata": {},
   "outputs": [
    {
     "data": {
      "text/plain": [
       "['p', 'w', 's', 'k', 'i', 'l', 'l', 's']"
      ]
     },
     "execution_count": 7,
     "metadata": {},
     "output_type": "execute_result"
    }
   ],
   "source": [
    "s = 'pwskills'\n",
    "[i for i in s]"
   ]
  },
  {
   "cell_type": "markdown",
   "id": "477e3f8e",
   "metadata": {},
   "source": [
    "#### Q8. Write a python program to check whether a given number is Palindrome or not using a while loop."
   ]
  },
  {
   "cell_type": "code",
   "execution_count": 8,
   "id": "1c5cdd01",
   "metadata": {},
   "outputs": [
    {
     "name": "stdout",
     "output_type": "stream",
     "text": [
      "Enter Number :121\n",
      "121 is a Palindrome Number\n"
     ]
    }
   ],
   "source": [
    "num = int(input(\"Enter Number :\"))\n",
    "temp = num\n",
    "reverse = 0\n",
    "while num > 0:\n",
    "    digit = num%10\n",
    "    reverse = reverse*10 + digit\n",
    "    num = int(num/10)\n",
    "if temp == reverse:\n",
    "    print(f\"{temp} is a Palindrome Number\")\n",
    "else:\n",
    "    print(f\"{temp} is not a Palindrome Number\")"
   ]
  },
  {
   "cell_type": "markdown",
   "id": "1cd692a6",
   "metadata": {},
   "source": [
    "#### Q9. Write a code to print odd numbers from 1 to 100 using list comprehension.\n",
    "**Note:**  Use a list comprehension to create a list from 1 to 100 and use another List comprehension to filter \n",
    "out odd numbers."
   ]
  },
  {
   "cell_type": "code",
   "execution_count": 9,
   "id": "1666249b",
   "metadata": {},
   "outputs": [
    {
     "name": "stdout",
     "output_type": "stream",
     "text": [
      "[1, 3, 5, 7, 9, 11, 13, 15, 17, 19, 21, 23, 25, 27, 29, 31, 33, 35, 37, 39, 41, 43, 45, 47, 49, 51, 53, 55, 57, 59, 61, 63, 65, 67, 69, 71, 73, 75, 77, 79, 81, 83, 85, 87, 89, 91, 93, 95, 97, 99]\n"
     ]
    }
   ],
   "source": [
    "odd_numbers = [i for i in range(1,101) if i%2 != 0]\n",
    "print(odd_numbers)"
   ]
  }
 ],
 "metadata": {
  "kernelspec": {
   "display_name": "Python 3 (ipykernel)",
   "language": "python",
   "name": "python3"
  },
  "language_info": {
   "codemirror_mode": {
    "name": "ipython",
    "version": 3
   },
   "file_extension": ".py",
   "mimetype": "text/x-python",
   "name": "python",
   "nbconvert_exporter": "python",
   "pygments_lexer": "ipython3",
   "version": "3.8.16"
  }
 },
 "nbformat": 4,
 "nbformat_minor": 5
}
