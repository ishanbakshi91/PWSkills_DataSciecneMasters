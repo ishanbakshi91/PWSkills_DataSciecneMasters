{
 "cells": [
  {
   "cell_type": "markdown",
   "id": "0efe21c3",
   "metadata": {},
   "source": [
    "# 8th Feb Assignment\n",
    "---"
   ]
  },
  {
   "cell_type": "markdown",
   "id": "166f8afa",
   "metadata": {},
   "source": [
    "#### Q1. What is Abstraction in OOPs? Explain with an example."
   ]
  },
  {
   "cell_type": "markdown",
   "id": "4df7f59e",
   "metadata": {},
   "source": [
    "Ans. Abstraction in Object-Oriented Programming (OOP) is a technique used to represent essential features of an object, ignoring all its background details. The main goal of abstraction is to simplify complex systems by hiding their implementation details and exposing only relevant information to the user. \n",
    "\n",
    "The users only interact with the basic implementation of the function, but inner working is hidden. \n",
    "User is familiar with that \"what function does\" but they don't know \"how it does.\n",
    "\n",
    "\n",
    "\n"
   ]
  },
  {
   "cell_type": "code",
   "execution_count": null,
   "id": "7f2c1aff",
   "metadata": {},
   "outputs": [],
   "source": []
  },
  {
   "cell_type": "code",
   "execution_count": null,
   "id": "63fe985b",
   "metadata": {},
   "outputs": [],
   "source": []
  },
  {
   "cell_type": "code",
   "execution_count": null,
   "id": "5209b1c0",
   "metadata": {},
   "outputs": [],
   "source": []
  },
  {
   "cell_type": "markdown",
   "id": "437d893f",
   "metadata": {},
   "source": [
    "#### Q2. Differentiate between Abstraction and Encapsulation. Explain with an example."
   ]
  },
  {
   "cell_type": "markdown",
   "id": "bf29eeba",
   "metadata": {},
   "source": [
    "Ans. Abstraction refers to the process of hiding complex implementation details and presenting only the essential features of an object. It provides a simplified view of an object, allowing the user to work with it without having to understand its underlying code or mechanics.\n",
    "\n",
    "Encapsulation, on the other hand, refers to the process of wrapping data and functions into a single unit (i.e., an object). It protects the data from outside interference and misuse and helps to maintain the integrity of the data. Encapsulation allows for the implementation of abstraction by hiding the implementation details within an object.\n"
   ]
  },
  {
   "cell_type": "code",
   "execution_count": null,
   "id": "fc9fe07a",
   "metadata": {},
   "outputs": [],
   "source": []
  },
  {
   "cell_type": "code",
   "execution_count": null,
   "id": "4ba76c9f",
   "metadata": {},
   "outputs": [],
   "source": []
  },
  {
   "cell_type": "markdown",
   "id": "7fc7e755",
   "metadata": {},
   "source": [
    "#### Q3. What is abc module in python? Why is it used?"
   ]
  },
  {
   "cell_type": "code",
   "execution_count": null,
   "id": "6fef23d6",
   "metadata": {},
   "outputs": [],
   "source": []
  },
  {
   "cell_type": "markdown",
   "id": "de2ad206",
   "metadata": {},
   "source": [
    "#### Q4. How can we achieve data abstraction?"
   ]
  },
  {
   "cell_type": "markdown",
   "id": "23af7acd",
   "metadata": {},
   "source": [
    "Ans. Data Abstraction is a technique of hiding the implementation details of a data structure and providing only the necessary information to the user. In other words, data abstraction refers to the ability to present only the essential information to the user, while hiding the underlying implementation details.\n",
    "\n",
    "In Python, data abstraction can be achieved in several ways:\n",
    "\n",
    "Using Encapsulation: Encapsulation is the process of wrapping data and functions into a single unit (i.e., an object). In Python, you can achieve data abstraction by using classes and objects. By keeping the implementation details within the class and only exposing the necessary methods and properties, you can achieve data abstraction.\n",
    "\n",
    "Using Abstract Base Classes: In Python, you can use the abc (Abstract Base Class) module to define abstract base classes. An abstract base class is a class that cannot be instantiated and is meant to serve as a blueprint for other classes. By defining an abstract base class, you can specify the methods and properties that must be implemented by any class that inherits from it.\n",
    "\n",
    "Using Modules: In Python, you can use modules to achieve data abstraction. A module is a way to group related functions and data into a single unit. By hiding the implementation details within a module and only exposing the necessary functions and data, you can achieve data abstraction.\n",
    "\n",
    "In conclusion, data abstraction is a useful technique for hiding implementation details and providing only the necessary information to the user. By using techniques such as encapsulation, abstract base classes, and modules, you can achieve data abstraction in Python."
   ]
  },
  {
   "cell_type": "markdown",
   "id": "ebdf252b",
   "metadata": {},
   "source": [
    "#### Q5. Can we create an instance of an abstract class? Explain your answer"
   ]
  },
  {
   "cell_type": "code",
   "execution_count": null,
   "id": "653fd249",
   "metadata": {},
   "outputs": [],
   "source": []
  },
  {
   "cell_type": "code",
   "execution_count": null,
   "id": "3aa91ca0",
   "metadata": {},
   "outputs": [],
   "source": [
    "pip install pandas"
   ]
  },
  {
   "cell_type": "code",
   "execution_count": null,
   "id": "528ad7ea",
   "metadata": {},
   "outputs": [],
   "source": []
  }
 ],
 "metadata": {
  "kernelspec": {
   "display_name": "Python 3 (ipykernel)",
   "language": "python",
   "name": "python3"
  },
  "language_info": {
   "codemirror_mode": {
    "name": "ipython",
    "version": 3
   },
   "file_extension": ".py",
   "mimetype": "text/x-python",
   "name": "python",
   "nbconvert_exporter": "python",
   "pygments_lexer": "ipython3",
   "version": "3.8.16"
  }
 },
 "nbformat": 4,
 "nbformat_minor": 5
}
